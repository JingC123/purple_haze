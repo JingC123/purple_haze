{
 "cells": [
  {
   "cell_type": "markdown",
   "metadata": {},
   "source": [
    "## Import those packages"
   ]
  },
  {
   "cell_type": "code",
   "execution_count": 1,
   "metadata": {},
   "outputs": [],
   "source": [
    "import geopandas as gpd\n",
    "from geopandas.tools import sjoin\n",
    "import matplotlib.pyplot as plt\n",
    "import pandas as pd"
   ]
  },
  {
   "cell_type": "markdown",
   "metadata": {},
   "source": [
    "## File location/loading"
   ]
  },
  {
   "cell_type": "markdown",
   "metadata": {},
   "source": [
    "##### Some info on shapefiles:\n",
    "-There are lots of ways to load them with python!\n",
    "-I have so far opted to use geopandas as it plays nice with pandas which I kind of know\n",
    "-A shapefile will actually consist of several files, you only ever manually load in one file. All the other \n",
    "    files will load in automatically (I guess??), but you need to make sure they all have the SAME NAME,\n",
    "    but with different file endings (i.e., .shp and .prj)\n",
    "-Each shapefile will have a different crs, which refers to the projection (I think 4326 is 'normal')"
   ]
  },
  {
   "cell_type": "code",
   "execution_count": 2,
   "metadata": {},
   "outputs": [],
   "source": [
    "census_file='data/WA_census_tracts/tl_2019_53_tract.shp'\n",
    "ses_file='data/Seattle_ses_data/ses_data.shp'\n",
    "census_data = gpd.read_file(census_file)\n",
    "ses_data = gpd.read_file(ses_file)\n",
    "#Converting it to what I think is the default lat/lon format\n",
    "new_ses_data=ses_data.to_crs(\"EPSG:4326\")"
   ]
  },
  {
   "cell_type": "markdown",
   "metadata": {},
   "source": [
    "#### No need to use the census file, I think the ses file will have everything we need"
   ]
  },
  {
   "cell_type": "code",
   "execution_count": 3,
   "metadata": {},
   "outputs": [
    {
     "data": {
      "text/html": [
       "<div>\n",
       "<style scoped>\n",
       "    .dataframe tbody tr th:only-of-type {\n",
       "        vertical-align: middle;\n",
       "    }\n",
       "\n",
       "    .dataframe tbody tr th {\n",
       "        vertical-align: top;\n",
       "    }\n",
       "\n",
       "    .dataframe thead th {\n",
       "        text-align: right;\n",
       "    }\n",
       "</style>\n",
       "<table border=\"1\" class=\"dataframe\">\n",
       "  <thead>\n",
       "    <tr style=\"text-align: right;\">\n",
       "      <th></th>\n",
       "      <th>OBJECTID</th>\n",
       "      <th>GEOID10</th>\n",
       "      <th>NAME10</th>\n",
       "      <th>NAMELSAD10</th>\n",
       "      <th>ACRES_TOTA</th>\n",
       "      <th>PCT_PEOPLE</th>\n",
       "      <th>PTL_PEOPLE</th>\n",
       "      <th>PCT_ENGLIS</th>\n",
       "      <th>PTL_ENGLIS</th>\n",
       "      <th>PCT_FOREIG</th>\n",
       "      <th>...</th>\n",
       "      <th>COMPOSIT_1</th>\n",
       "      <th>RACE_ELL_O</th>\n",
       "      <th>RACE_ELL_1</th>\n",
       "      <th>SOCIOECONO</th>\n",
       "      <th>SOCIOECO_1</th>\n",
       "      <th>HEALTH_PER</th>\n",
       "      <th>HEALTH_QUI</th>\n",
       "      <th>Shape__Are</th>\n",
       "      <th>Shape__Len</th>\n",
       "      <th>geometry</th>\n",
       "    </tr>\n",
       "  </thead>\n",
       "  <tbody>\n",
       "    <tr>\n",
       "      <th>0</th>\n",
       "      <td>1</td>\n",
       "      <td>53033005900</td>\n",
       "      <td>59</td>\n",
       "      <td>Census Tract 59</td>\n",
       "      <td>447.919508</td>\n",
       "      <td>0.184537</td>\n",
       "      <td>0.241</td>\n",
       "      <td>0.013041</td>\n",
       "      <td>0.098</td>\n",
       "      <td>0.095335</td>\n",
       "      <td>...</td>\n",
       "      <td>Lowest</td>\n",
       "      <td>0.181</td>\n",
       "      <td>Lowest</td>\n",
       "      <td>0.241</td>\n",
       "      <td>Second lowest</td>\n",
       "      <td>0.264</td>\n",
       "      <td>Second lowest</td>\n",
       "      <td>1.951137e+07</td>\n",
       "      <td>24649.766671</td>\n",
       "      <td>POLYGON ((-122.37118 47.65770, -122.37101 47.6...</td>\n",
       "    </tr>\n",
       "    <tr>\n",
       "      <th>1</th>\n",
       "      <td>2</td>\n",
       "      <td>53033004700</td>\n",
       "      <td>47</td>\n",
       "      <td>Census Tract 47</td>\n",
       "      <td>490.845743</td>\n",
       "      <td>0.181284</td>\n",
       "      <td>0.211</td>\n",
       "      <td>0.038452</td>\n",
       "      <td>0.444</td>\n",
       "      <td>0.105566</td>\n",
       "      <td>...</td>\n",
       "      <td>Second lowest</td>\n",
       "      <td>0.301</td>\n",
       "      <td>Second lowest</td>\n",
       "      <td>0.437</td>\n",
       "      <td>Middle</td>\n",
       "      <td>0.391</td>\n",
       "      <td>Second lowest</td>\n",
       "      <td>2.138124e+07</td>\n",
       "      <td>22313.994871</td>\n",
       "      <td>POLYGON ((-122.36617 47.67235, -122.36617 47.6...</td>\n",
       "    </tr>\n",
       "    <tr>\n",
       "      <th>2</th>\n",
       "      <td>3</td>\n",
       "      <td>53033001900</td>\n",
       "      <td>19</td>\n",
       "      <td>Census Tract 19</td>\n",
       "      <td>410.970985</td>\n",
       "      <td>0.301733</td>\n",
       "      <td>0.557</td>\n",
       "      <td>0.079266</td>\n",
       "      <td>0.647</td>\n",
       "      <td>0.191898</td>\n",
       "      <td>...</td>\n",
       "      <td>Second highest</td>\n",
       "      <td>0.617</td>\n",
       "      <td>Second highest</td>\n",
       "      <td>0.579</td>\n",
       "      <td>Middle</td>\n",
       "      <td>0.662</td>\n",
       "      <td>Second highest</td>\n",
       "      <td>1.790190e+07</td>\n",
       "      <td>21117.783503</td>\n",
       "      <td>POLYGON ((-122.31769 47.70129, -122.31766 47.7...</td>\n",
       "    </tr>\n",
       "    <tr>\n",
       "      <th>3</th>\n",
       "      <td>4</td>\n",
       "      <td>53033001300</td>\n",
       "      <td>13</td>\n",
       "      <td>Census Tract 13</td>\n",
       "      <td>292.551184</td>\n",
       "      <td>0.405455</td>\n",
       "      <td>0.692</td>\n",
       "      <td>0.127567</td>\n",
       "      <td>0.767</td>\n",
       "      <td>0.231492</td>\n",
       "      <td>...</td>\n",
       "      <td>Second highest</td>\n",
       "      <td>0.730</td>\n",
       "      <td>Second highest</td>\n",
       "      <td>0.647</td>\n",
       "      <td>Second highest</td>\n",
       "      <td>0.707</td>\n",
       "      <td>Second highest</td>\n",
       "      <td>1.274353e+07</td>\n",
       "      <td>15034.470142</td>\n",
       "      <td>POLYGON ((-122.33396 47.70685, -122.33395 47.7...</td>\n",
       "    </tr>\n",
       "    <tr>\n",
       "      <th>4</th>\n",
       "      <td>5</td>\n",
       "      <td>53033004100</td>\n",
       "      <td>41</td>\n",
       "      <td>Census Tract 41</td>\n",
       "      <td>787.830676</td>\n",
       "      <td>0.164442</td>\n",
       "      <td>0.158</td>\n",
       "      <td>0.045527</td>\n",
       "      <td>0.519</td>\n",
       "      <td>0.150340</td>\n",
       "      <td>...</td>\n",
       "      <td>Lowest</td>\n",
       "      <td>0.361</td>\n",
       "      <td>Second lowest</td>\n",
       "      <td>0.053</td>\n",
       "      <td>Lowest</td>\n",
       "      <td>0.076</td>\n",
       "      <td>Lowest</td>\n",
       "      <td>3.431790e+07</td>\n",
       "      <td>35293.161989</td>\n",
       "      <td>POLYGON ((-122.25158 47.67384, -122.25159 47.6...</td>\n",
       "    </tr>\n",
       "  </tbody>\n",
       "</table>\n",
       "<p>5 rows × 40 columns</p>\n",
       "</div>"
      ],
      "text/plain": [
       "   OBJECTID      GEOID10 NAME10       NAMELSAD10  ACRES_TOTA  PCT_PEOPLE  \\\n",
       "0         1  53033005900     59  Census Tract 59  447.919508    0.184537   \n",
       "1         2  53033004700     47  Census Tract 47  490.845743    0.181284   \n",
       "2         3  53033001900     19  Census Tract 19  410.970985    0.301733   \n",
       "3         4  53033001300     13  Census Tract 13  292.551184    0.405455   \n",
       "4         5  53033004100     41  Census Tract 41  787.830676    0.164442   \n",
       "\n",
       "   PTL_PEOPLE  PCT_ENGLIS  PTL_ENGLIS  PCT_FOREIG  ...      COMPOSIT_1  \\\n",
       "0       0.241    0.013041       0.098    0.095335  ...          Lowest   \n",
       "1       0.211    0.038452       0.444    0.105566  ...   Second lowest   \n",
       "2       0.557    0.079266       0.647    0.191898  ...  Second highest   \n",
       "3       0.692    0.127567       0.767    0.231492  ...  Second highest   \n",
       "4       0.158    0.045527       0.519    0.150340  ...          Lowest   \n",
       "\n",
       "   RACE_ELL_O      RACE_ELL_1  SOCIOECONO      SOCIOECO_1  HEALTH_PER  \\\n",
       "0       0.181          Lowest       0.241   Second lowest       0.264   \n",
       "1       0.301   Second lowest       0.437          Middle       0.391   \n",
       "2       0.617  Second highest       0.579          Middle       0.662   \n",
       "3       0.730  Second highest       0.647  Second highest       0.707   \n",
       "4       0.361   Second lowest       0.053          Lowest       0.076   \n",
       "\n",
       "       HEALTH_QUI    Shape__Are    Shape__Len  \\\n",
       "0   Second lowest  1.951137e+07  24649.766671   \n",
       "1   Second lowest  2.138124e+07  22313.994871   \n",
       "2  Second highest  1.790190e+07  21117.783503   \n",
       "3  Second highest  1.274353e+07  15034.470142   \n",
       "4          Lowest  3.431790e+07  35293.161989   \n",
       "\n",
       "                                            geometry  \n",
       "0  POLYGON ((-122.37118 47.65770, -122.37101 47.6...  \n",
       "1  POLYGON ((-122.36617 47.67235, -122.36617 47.6...  \n",
       "2  POLYGON ((-122.31769 47.70129, -122.31766 47.7...  \n",
       "3  POLYGON ((-122.33396 47.70685, -122.33395 47.7...  \n",
       "4  POLYGON ((-122.25158 47.67384, -122.25159 47.6...  \n",
       "\n",
       "[5 rows x 40 columns]"
      ]
     },
     "execution_count": 3,
     "metadata": {},
     "output_type": "execute_result"
    }
   ],
   "source": [
    "#Let's check out the ses data_file\n",
    "\n",
    "new_ses_data.head()"
   ]
  },
  {
   "cell_type": "markdown",
   "metadata": {},
   "source": [
    "### Now let's get 2 points and find out which census tract it is in"
   ]
  },
  {
   "cell_type": "code",
   "execution_count": 4,
   "metadata": {},
   "outputs": [],
   "source": [
    "#Come up with 2 random points that are in Seattle and put them in a pandas dataframe\n",
    "#Note there are likely other ways to do this\n",
    "test_points = pd.DataFrame({'Names': ['point1', 'point2'], 'Latitude': [47.6, 47.55], 'Longitude': [-122.3, -122.3]})\n",
    "\n",
    "#Then turn that pandas dataframe into a GeoDataFrame which is some sort of shapefile\n",
    "#Note I am specifying that this is crs=\"EPSG:4326\", which tells it it's in normal lat/lon\n",
    "point_gdf = gpd.GeoDataFrame(\n",
    "    test_points, geometry=gpd.points_from_xy(test_points.Longitude, test_points.Latitude), crs=\"EPSG:4326\")  \n",
    "\n",
    "#Do the same for our ses_data, taking only the shapefile info, which has the 'geometry' heading\n",
    "shape_gdf = gpd.GeoDataFrame(new_ses_data['geometry'])"
   ]
  },
  {
   "cell_type": "code",
   "execution_count": 5,
   "metadata": {},
   "outputs": [],
   "source": [
    "#Then we do this join thing\n",
    "#Not sure how this work, but it will basically tell us which one of the ses polygons the points are in\n",
    "#More info here: https://geopandas.org/mergingdata.html\n",
    "pointInPolys = sjoin(point_gdf, shape_gdf, how='left', op='intersects')\n"
   ]
  },
  {
   "cell_type": "code",
   "execution_count": 6,
   "metadata": {},
   "outputs": [
    {
     "name": "stdout",
     "output_type": "stream",
     "text": [
      "    Names  Latitude  Longitude                     geometry  index_right\n",
      "0  point1     47.60     -122.3  POINT (-122.30000 47.60000)           47\n",
      "1  point2     47.55     -122.3  POINT (-122.30000 47.55000)           44\n"
     ]
    }
   ],
   "source": [
    "#Now let's print where they overlap\n",
    "#Basically it will give the index of the census tract that each point falls in\n",
    "#We could then go back to the SES data with that index to get info if we wanted to\n",
    "print(pointInPolys)"
   ]
  },
  {
   "cell_type": "markdown",
   "metadata": {},
   "source": [
    "### And for fun let's plot something!"
   ]
  },
  {
   "cell_type": "code",
   "execution_count": 7,
   "metadata": {},
   "outputs": [
    {
     "data": {
      "image/png": "[encoded data removed]",
      "text/plain": [
       "<Figure size 720x432 with 1 Axes>"
      ]
     },
     "metadata": {
      "needs_background": "light"
     },
     "output_type": "display_data"
    }
   ],
   "source": [
    "\n",
    "fig, ax = plt.subplots(1, figsize=(10, 6))\n",
    "test_plot = new_ses_data.plot(column='PCT_ENGLIS', cmap='RdBu',linewidth=0.8, ax=ax)\n",
    "#cbar=fig.colorbar(test_plot, ax=ax)"
   ]
  },
  {
   "cell_type": "code",
   "execution_count": null,
   "metadata": {},
   "outputs": [],
   "source": []
  }
 ],
 "metadata": {
  "kernelspec": {
   "display_name": "Python 3",
   "language": "python",
   "name": "python3"
  },
  "language_info": {
   "codemirror_mode": {
    "name": "ipython",
    "version": 3
   },
   "file_extension": ".py",
   "mimetype": "text/x-python",
   "name": "python",
   "nbconvert_exporter": "python",
   "pygments_lexer": "ipython3",
   "version": "3.8.5"
  }
 },
 "nbformat": 4,
 "nbformat_minor": 4
}
